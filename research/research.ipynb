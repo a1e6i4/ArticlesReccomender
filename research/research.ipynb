{
 "cells": [
  {
   "cell_type": "code",
   "execution_count": 4,
   "metadata": {},
   "outputs": [],
   "source": [
    "from elsapy.elsclient import ElsClient\n",
    "from elsapy.elsprofile import ElsAuthor, ElsAffil\n",
    "from elsapy.elsdoc import FullDoc, AbsDoc\n",
    "from elsapy.elssearch import ElsSearch\n",
    "import json\n",
    "from tqdm import tqdm\n",
    "import hashlib\n",
    "from bs4 import BeautifulSoup\n",
    "import requests\n",
    "from time import sleep\n",
    "import pandas as pd"
   ]
  },
  {
   "cell_type": "code",
   "execution_count": 5,
   "metadata": {},
   "outputs": [],
   "source": [
    "con_file = open(\"config.json\")\n",
    "config = json.load(con_file)\n",
    "con_file.close()\n",
    "\n",
    "## Initialize client\n",
    "client = ElsClient(config['apikey'])\n",
    "client.inst_token = config['insttoken']"
   ]
  },
  {
   "cell_type": "code",
   "execution_count": null,
   "metadata": {},
   "outputs": [],
   "source": []
  },
  {
   "cell_type": "code",
   "execution_count": 6,
   "metadata": {},
   "outputs": [],
   "source": [
    "my_auth = ElsAuthor(uri = 'https://api.elsevier.com/content/author/author_id/7004367821')"
   ]
  },
  {
   "cell_type": "markdown",
   "metadata": {},
   "source": [
    "### Поиск статей"
   ]
  },
  {
   "cell_type": "code",
   "execution_count": 12,
   "metadata": {},
   "outputs": [
    {
     "name": "stdout",
     "output_type": "stream",
     "text": [
      "doc_srch has 324 results.\n"
     ]
    }
   ],
   "source": [
    "doc_srch = ElsSearch(\"(KEY quantum) AND (PUBYEAR = 2023) AND SUBJAREA(COMP)\",'scopus')\n",
    "doc_srch.execute(client, get_all = True)\n",
    "print (\"doc_srch has\", len(doc_srch.results), \"results.\")"
   ]
  },
  {
   "cell_type": "code",
   "execution_count": 18,
   "metadata": {},
   "outputs": [],
   "source": [
    "refs = [r['prism:url'] for r in doc_srch.results]"
   ]
  },
  {
   "cell_type": "code",
   "execution_count": 38,
   "metadata": {},
   "outputs": [
    {
     "data": {
      "text/plain": [
       "{'@_fa': 'true',\n",
       " 'link': [{'@_fa': 'true',\n",
       "   '@ref': 'self',\n",
       "   '@href': 'https://api.elsevier.com/content/abstract/scopus_id/85145769887'},\n",
       "  {'@_fa': 'true',\n",
       "   '@ref': 'author-affiliation',\n",
       "   '@href': 'https://api.elsevier.com/content/abstract/scopus_id/85145769887?field=author,affiliation'},\n",
       "  {'@_fa': 'true',\n",
       "   '@ref': 'scopus',\n",
       "   '@href': 'https://www.scopus.com/inward/record.uri?partnerID=HzOxMe3b&scp=85145769887&origin=inward'},\n",
       "  {'@_fa': 'true',\n",
       "   '@ref': 'scopus-citedby',\n",
       "   '@href': 'https://www.scopus.com/inward/citedby.uri?partnerID=HzOxMe3b&scp=85145769887&origin=inward'}],\n",
       " 'prism:url': 'https://api.elsevier.com/content/abstract/scopus_id/85145769887',\n",
       " 'dc:identifier': 'SCOPUS_ID:85145769887',\n",
       " 'eid': '2-s2.0-85145769887',\n",
       " 'dc:title': 'Machine-learning atomic simulation for heterogeneous catalysis',\n",
       " 'dc:creator': 'Chen D.',\n",
       " 'prism:publicationName': 'npj Computational Materials',\n",
       " 'prism:eIssn': '20573960',\n",
       " 'prism:volume': '9',\n",
       " 'prism:issueIdentifier': '1',\n",
       " 'prism:pageRange': None,\n",
       " 'prism:coverDate': '2023-12-01',\n",
       " 'prism:coverDisplayDate': 'December 2023',\n",
       " 'prism:doi': '10.1038/s41524-022-00959-5',\n",
       " 'citedby-count': '0',\n",
       " 'affiliation': [{'@_fa': 'true',\n",
       "   'affilname': 'Fudan University',\n",
       "   'affiliation-city': 'Shanghai',\n",
       "   'affiliation-country': 'China'}],\n",
       " 'prism:aggregationType': 'Journal',\n",
       " 'subtype': 're',\n",
       " 'subtypeDescription': 'Review',\n",
       " 'article-number': '2',\n",
       " 'source-id': '21100850798',\n",
       " 'openaccess': '1',\n",
       " 'openaccessFlag': True,\n",
       " 'freetoread': {'value': [{'$': 'all'}, {'$': 'publisherfullgold'}]},\n",
       " 'freetoreadLabel': {'value': [{'$': 'All Open Access'}, {'$': 'Gold'}]}}"
      ]
     },
     "execution_count": 38,
     "metadata": {},
     "output_type": "execute_result"
    }
   ],
   "source": [
    "doc_srch.results[0]"
   ]
  },
  {
   "cell_type": "code",
   "execution_count": 14,
   "metadata": {},
   "outputs": [],
   "source": [
    "def get_doi_list(results, http=True, scihub=False):\n",
    "    if scihub:\n",
    "        pre = \"https://sci-hub.do/\"\n",
    "    else:\n",
    "        pre = \"https://doi.org/\"\n",
    "    new_results = list(filter(lambda x: 'prism:doi' in x, results))\n",
    "    return [f\"{pre}{el['prism:doi']}\" for el in new_results]"
   ]
  },
  {
   "cell_type": "code",
   "execution_count": 31,
   "metadata": {},
   "outputs": [],
   "source": [
    "def get_full_text(doi):\n",
    "    doi_doc = FullDoc(doi = doi)\n",
    "    if doi_doc.read(client):\n",
    "        print (\"doi_doc.title: \", doi_doc.title)\n",
    "        doi_doc.write()\n",
    "    return doi_doc.data\n",
    "\n",
    "\n",
    "def get_open_texts(results):\n",
    "    open_docs = []\n",
    "    open_texts = []\n",
    "    for res in tqdm(results):\n",
    "        if res['openaccess'] == '1':\n",
    "            open_docs.append(res)\n",
    "            open_texts.append(get_full_text(res['prism:doi']))\n",
    "    return open_docs, open_texts\n",
    "\n",
    "def filter_results(results, andwords, orwords, notwords):\n",
    "    res = []\n",
    "    for result in results:\n",
    "        flag = True\n",
    "        for word in andwords:\n",
    "            if word not in result['dc:title'].lower():\n",
    "                flag = False\n",
    "                break\n",
    "        orflag = False\n",
    "        for word in orwords:\n",
    "            if word in result['dc:title'].lower():\n",
    "                orflag = True\n",
    "                break\n",
    "        notflag = True\n",
    "        for word in notwords:\n",
    "            if word in result['dc:title'].lower():\n",
    "                notflag = False\n",
    "                break\n",
    "        if flag and orflag and notflag:\n",
    "            res.append(result)\n",
    "    return res"
   ]
  },
  {
   "cell_type": "code",
   "execution_count": 16,
   "metadata": {},
   "outputs": [],
   "source": [
    "def download_from_scihub(link):\n",
    "    with open('tmp.html', 'wb') as f:\n",
    "        f.write(requests.get(link).content)\n",
    "        \n",
    "    with open(\"tmp.html\", \"r\") as f:\n",
    "        contents = f.read()\n",
    "        soup = BeautifulSoup(contents, 'lxml')\n",
    "        src = soup.find(\"iframe\", id=\"pdf\")['src']\n",
    "        hash_object = hashlib.md5(link.encode())\n",
    "        with open(f'scihub_downloads/{hash_object.hexdigest()}.pdf', 'wb') as ff:\n",
    "            if not src.startswith('http'):\n",
    "                src = 'http:'+src\n",
    "            ff.write(requests.get(src).content)"
   ]
  },
  {
   "cell_type": "code",
   "execution_count": 29,
   "metadata": {},
   "outputs": [
    {
     "ename": "KeyError",
     "evalue": "'doi'",
     "output_type": "error",
     "traceback": [
      "\u001B[0;31m---------------------------------------------------------------------------\u001B[0m",
      "\u001B[0;31mKeyError\u001B[0m                                  Traceback (most recent call last)",
      "\u001B[0;32m<ipython-input-29-ff6ee081e68f>\u001B[0m in \u001B[0;36m<module>\u001B[0;34m\u001B[0m\n\u001B[0;32m----> 1\u001B[0;31m \u001B[0mdoc_srch\u001B[0m\u001B[0;34m.\u001B[0m\u001B[0mresults\u001B[0m\u001B[0;34m[\u001B[0m\u001B[0;36m0\u001B[0m\u001B[0;34m]\u001B[0m\u001B[0;34m[\u001B[0m\u001B[0;34m'doi'\u001B[0m\u001B[0;34m]\u001B[0m\u001B[0;34m\u001B[0m\u001B[0;34m\u001B[0m\u001B[0m\n\u001B[0m",
      "\u001B[0;31mKeyError\u001B[0m: 'doi'"
     ]
    }
   ],
   "source": [
    "doc_srch.results[0]['doi']"
   ]
  },
  {
   "cell_type": "code",
   "execution_count": 32,
   "metadata": {},
   "outputs": [],
   "source": [
    "get_full_text(doc_srch.results[0]['prism:doi'])"
   ]
  },
  {
   "cell_type": "code",
   "execution_count": 33,
   "metadata": {},
   "outputs": [],
   "source": [
    "doi_doc = FullDoc(doi = doc_srch.results[0]['prism:doi'])\n",
    "if doi_doc.read(client):\n",
    "    print (\"doi_doc.title: \", doi_doc.title)\n",
    "    doi_doc.write()"
   ]
  },
  {
   "cell_type": "code",
   "execution_count": null,
   "metadata": {},
   "outputs": [],
   "source": []
  },
  {
   "cell_type": "code",
   "execution_count": null,
   "metadata": {},
   "outputs": [],
   "source": []
  },
  {
   "cell_type": "code",
   "execution_count": 17,
   "metadata": {},
   "outputs": [
    {
     "ename": "NameError",
     "evalue": "name 'refs' is not defined",
     "output_type": "error",
     "traceback": [
      "\u001B[0;31m---------------------------------------------------------------------------\u001B[0m",
      "\u001B[0;31mNameError\u001B[0m                                 Traceback (most recent call last)",
      "\u001B[0;32m<ipython-input-17-343a500741f0>\u001B[0m in \u001B[0;36m<module>\u001B[0;34m\u001B[0m\n\u001B[0;32m----> 1\u001B[0;31m \u001B[0;32mfor\u001B[0m \u001B[0mlink\u001B[0m \u001B[0;32min\u001B[0m \u001B[0mtqdm\u001B[0m\u001B[0;34m(\u001B[0m\u001B[0mrefs\u001B[0m\u001B[0;34m)\u001B[0m\u001B[0;34m:\u001B[0m\u001B[0;34m\u001B[0m\u001B[0;34m\u001B[0m\u001B[0m\n\u001B[0m\u001B[1;32m      2\u001B[0m     \u001B[0;32mtry\u001B[0m\u001B[0;34m:\u001B[0m\u001B[0;34m\u001B[0m\u001B[0;34m\u001B[0m\u001B[0m\n\u001B[1;32m      3\u001B[0m         \u001B[0mdownload_from_scihub\u001B[0m\u001B[0;34m(\u001B[0m\u001B[0mlink\u001B[0m\u001B[0;34m)\u001B[0m\u001B[0;34m\u001B[0m\u001B[0;34m\u001B[0m\u001B[0m\n\u001B[1;32m      4\u001B[0m         \u001B[0msleep\u001B[0m\u001B[0;34m(\u001B[0m\u001B[0;36m3\u001B[0m\u001B[0;34m)\u001B[0m\u001B[0;34m\u001B[0m\u001B[0;34m\u001B[0m\u001B[0m\n\u001B[1;32m      5\u001B[0m     \u001B[0;32mexcept\u001B[0m \u001B[0mException\u001B[0m \u001B[0;32mas\u001B[0m \u001B[0me\u001B[0m\u001B[0;34m:\u001B[0m\u001B[0;34m\u001B[0m\u001B[0;34m\u001B[0m\u001B[0m\n",
      "\u001B[0;31mNameError\u001B[0m: name 'refs' is not defined"
     ]
    }
   ],
   "source": [
    "for link in tqdm(refs):\n",
    "    try:\n",
    "        download_from_scihub(link)\n",
    "        sleep(3)\n",
    "    except Exception as e:\n",
    "        print(e)"
   ]
  },
  {
   "cell_type": "code",
   "execution_count": 139,
   "metadata": {},
   "outputs": [
    {
     "data": {
      "text/plain": [
       "['https://sci-hub.do/10.1016/j.childyouth.2020.105514',\n",
       " 'https://sci-hub.do/10.3390/su12208519',\n",
       " 'https://sci-hub.do/10.1007/s10964-020-01245-7',\n",
       " 'https://sci-hub.do/10.1111/bjep.12292',\n",
       " 'https://sci-hub.do/10.1080/02643944.2020.1713870',\n",
       " 'https://sci-hub.do/10.1080/00131881.2020.1750305',\n",
       " 'https://sci-hub.do/10.1080/08856257.2019.1643145',\n",
       " 'https://sci-hub.do/10.1080/08856257.2019.1628338',\n",
       " 'https://sci-hub.do/10.1111/bjep.12276',\n",
       " 'https://sci-hub.do/10.17583/ijep.2020.4463',\n",
       " 'https://sci-hub.do/10.1007/s12187-019-09674-y',\n",
       " 'https://sci-hub.do/10.1007/s12187-019-09646-2',\n",
       " 'https://sci-hub.do/10.1080/02643944.2019.1700546',\n",
       " 'https://sci-hub.do/10.1080/19411243.2019.1647814',\n",
       " 'https://sci-hub.do/10.1080/03004279.2019.1573264',\n",
       " 'https://sci-hub.do/10.1080/03057925.2018.1510304',\n",
       " 'https://sci-hub.do/10.1007/s10803-020-04655-5',\n",
       " 'https://sci-hub.do/10.18848/2327-7963/CGP/V27I02/17-37',\n",
       " 'https://sci-hub.do/10.1002/pits.22319',\n",
       " 'https://sci-hub.do/10.1080/00313831.2020.1791248',\n",
       " 'https://sci-hub.do/10.1080/19345747.2020.1784330',\n",
       " 'https://sci-hub.do/10.1002/berj.3606',\n",
       " 'https://sci-hub.do/10.1177/0042098020959011',\n",
       " 'https://sci-hub.do/10.1080/03004430.2020.1784891',\n",
       " 'https://sci-hub.do/10.1080/03004279.2020.1795901',\n",
       " 'https://sci-hub.do/10.1080/03055698.2020.1767039',\n",
       " 'https://sci-hub.do/10.1002/berj.3620',\n",
       " 'https://sci-hub.do/10.1002/berj.3561',\n",
       " 'https://sci-hub.do/10.1080/09585176.2019.1646664',\n",
       " 'https://sci-hub.do/10.1016/j.jsp.2019.07.012',\n",
       " 'https://sci-hub.do/10.1007/s11618-019-00891-3',\n",
       " 'https://sci-hub.do/10.1016/j.ijedudev.2019.102087',\n",
       " 'https://sci-hub.do/10.1016/j.rasd.2019.101408',\n",
       " 'https://sci-hub.do/10.1007/s10802-019-00528-3',\n",
       " 'https://sci-hub.do/10.1017/cha.2019.20',\n",
       " 'https://sci-hub.do/10.1007/s12187-018-9591-y',\n",
       " 'https://sci-hub.do/10.1007/s10802-019-00523-8',\n",
       " 'https://sci-hub.do/10.1080/02568543.2019.1630870',\n",
       " 'https://sci-hub.do/10.1016/j.adolescence.2019.06.001',\n",
       " 'https://sci-hub.do/10.1177/0033294118768671',\n",
       " 'https://sci-hub.do/10.1016/j.ridd.2019.02.006',\n",
       " 'https://sci-hub.do/10.1177/1365480218817984',\n",
       " 'https://sci-hub.do/10.1080/13632752.2018.1564498',\n",
       " 'https://sci-hub.do/10.1177/0272431617735651',\n",
       " 'https://sci-hub.do/10.17323/1813-8918-2019-3-511-528',\n",
       " 'https://sci-hub.do/10.1016/j.lindif.2018.12.001',\n",
       " 'https://sci-hub.do/10.5817/SP2019-2-4',\n",
       " 'https://sci-hub.do/10.1080/00313831.2019.1639816',\n",
       " 'https://sci-hub.do/10.1093/cs/cdy029',\n",
       " 'https://sci-hub.do/10.1080/00313831.2019.1705900',\n",
       " 'https://sci-hub.do/10.15507/1991-9468.096.023.201903.390-403',\n",
       " 'https://sci-hub.do/10.1080/13603116.2019.1572797',\n",
       " 'https://sci-hub.do/10.1111/bjep.12190',\n",
       " 'https://sci-hub.do/10.1007/s10826-018-1098-0',\n",
       " 'https://sci-hub.do/10.1177/1098300717750872',\n",
       " 'https://sci-hub.do/10.1016/j.childyouth.2018.03.018',\n",
       " 'https://sci-hub.do/10.1016/j.jsp.2017.10.003',\n",
       " 'https://sci-hub.do/10.1080/02671522.2017.1302496',\n",
       " 'https://sci-hub.do/10.1080/01443410.2017.1341623',\n",
       " 'https://sci-hub.do/10.1177/0272431616659561',\n",
       " 'https://sci-hub.do/10.12738/estp.2017.5.0135',\n",
       " 'https://sci-hub.do/10.1080/03004430.2016.1171762',\n",
       " 'https://sci-hub.do/10.1016/j.childyouth.2017.06.053',\n",
       " 'https://sci-hub.do/10.1080/01443410.2016.1179265',\n",
       " 'https://sci-hub.do/10.1037/spq0000202',\n",
       " 'https://sci-hub.do/10.1016/j.psicod.2016.10.001',\n",
       " 'https://sci-hub.do/10.1080/13603116.2016.1197324',\n",
       " 'https://sci-hub.do/10.1007/s10964-016-0510-6',\n",
       " 'https://sci-hub.do/10.1016/j.ijer.2017.06.005',\n",
       " 'https://sci-hub.do/10.1080/21501378.2017.1327747',\n",
       " 'https://sci-hub.do/10.1108/AIA-09-2016-0024',\n",
       " 'https://sci-hub.do/10.1002/berj.3242',\n",
       " 'https://sci-hub.do/10.1080/00131881.2016.1200255',\n",
       " 'https://sci-hub.do/10.1016/j.adolescence.2016.04.003',\n",
       " 'https://sci-hub.do/10.1026/0049-8637/a000152',\n",
       " 'https://sci-hub.do/10.1007/s13384-016-0200-0',\n",
       " 'https://sci-hub.do/10.1007/s11618-015-0654-2',\n",
       " 'https://sci-hub.do/10.1111/1467-8578.12125',\n",
       " 'https://sci-hub.do/10.1017/sjp.2016.61',\n",
       " 'https://sci-hub.do/10.1080/08856257.2015.1087128',\n",
       " 'https://sci-hub.do/10.1037/spq0000129',\n",
       " 'https://sci-hub.do/10.1177/0272431614556347',\n",
       " 'https://sci-hub.do/10.1177/1362361314562616',\n",
       " 'https://sci-hub.do/10.3389/fpsyg.2016.01988',\n",
       " 'https://sci-hub.do/10.18848/2327-7963/cgp/v23i04/1-16',\n",
       " 'https://sci-hub.do/10.3280/PDS2016-002003',\n",
       " 'https://sci-hub.do/10.1186/s40461-016-0037-9',\n",
       " 'https://sci-hub.do/10.1515/jbnst-2015-4-507',\n",
       " 'https://sci-hub.do/10.1080/10615806.2015.1058367',\n",
       " 'https://sci-hub.do/10.1007/s10964-014-0192-x',\n",
       " 'https://sci-hub.do/10.1080/19415257.2014.902859',\n",
       " 'https://sci-hub.do/10.1002/jaba.233',\n",
       " 'https://sci-hub.do/10.1080/09669760.2014.999027',\n",
       " 'https://sci-hub.do/10.1177/0272431614529367',\n",
       " 'https://sci-hub.do/10.1177/1063426613491286',\n",
       " 'https://sci-hub.do/10.1891/0886-6708.VV-D-14-00046',\n",
       " 'https://sci-hub.do/10.1123/jtpe.2013-0228',\n",
       " 'https://sci-hub.do/10.1177/0034355215595515',\n",
       " 'https://sci-hub.do/10.1177/1098300714524825',\n",
       " 'https://sci-hub.do/10.1080/19404476.2015.11462118',\n",
       " 'https://sci-hub.do/10.1177/0192636515602329',\n",
       " 'https://sci-hub.do/10.1080/13676261.2015.1020938',\n",
       " 'https://sci-hub.do/10.1007/s10964-013-0039-x',\n",
       " 'https://sci-hub.do/10.1177/0739986313513718',\n",
       " 'https://sci-hub.do/10.1037/a0035366',\n",
       " 'https://sci-hub.do/10.1037/a0035528',\n",
       " 'https://sci-hub.do/10.1177/0143034313511003',\n",
       " 'https://sci-hub.do/10.1111/sode.12075',\n",
       " 'https://sci-hub.do/10.1177/0272431613495447',\n",
       " 'https://sci-hub.do/10.1002/ab.21503',\n",
       " 'https://sci-hub.do/10.5539/ies.v7n7p125',\n",
       " 'https://sci-hub.do/10.1177/0004944114523371',\n",
       " 'https://sci-hub.do/10.1027/1015-5759/a000186',\n",
       " 'https://sci-hub.do/10.7227/RIE.0011',\n",
       " 'https://sci-hub.do/10.1111/1467-9604.12056',\n",
       " 'https://sci-hub.do/10.5901/mjss.2014.v5n25p205',\n",
       " 'https://sci-hub.do/10.1007/s11577-013-0237-2',\n",
       " 'https://sci-hub.do/10.1037/a0031843',\n",
       " 'https://sci-hub.do/10.1007/s10964-013-9987-4',\n",
       " 'https://sci-hub.do/10.1016/j.psychsport.2013.05.001',\n",
       " 'https://sci-hub.do/10.1007/s10902-012-9374-y',\n",
       " 'https://sci-hub.do/10.1016/j.adolescence.2013.03.002',\n",
       " 'https://sci-hub.do/10.3109/13668250.2013.789099',\n",
       " 'https://sci-hub.do/10.1111/ajop.12039',\n",
       " 'https://sci-hub.do/10.1111/j.1475-5661.2012.519.x',\n",
       " 'https://sci-hub.do/10.1177/1475240913478078',\n",
       " 'https://sci-hub.do/10.1016/j.ijer.2013.02.003',\n",
       " 'https://sci-hub.do/10.1111/1467-9604.12012',\n",
       " 'https://sci-hub.do/10.1016/j.cedpsych.2012.10.003',\n",
       " 'https://sci-hub.do/10.1017/jgc.2012.26',\n",
       " 'https://sci-hub.do/10.1007/s11618-012-0283-y',\n",
       " 'https://sci-hub.do/10.1177/0272431611419506',\n",
       " 'https://sci-hub.do/10.1111/j.1468-5884.2012.00527.x',\n",
       " 'https://sci-hub.do/10.1111/j.1467-9507.2011.00635.x',\n",
       " 'https://sci-hub.do/10.7227/IJS.20.1.2',\n",
       " 'https://sci-hub.do/10.5944/reop.vol.23.num.3.2012.11461',\n",
       " 'https://sci-hub.do/10.5926/jjep.59.144',\n",
       " 'https://sci-hub.do/10.5926/jjep.59.64',\n",
       " 'https://sci-hub.do/10.1080/02667363.2011.624301',\n",
       " 'https://sci-hub.do/10.1080/13676261.2011.605439',\n",
       " 'https://sci-hub.do/10.1016/j.appdev.2010.06.003',\n",
       " 'https://sci-hub.do/10.1037/a0023811',\n",
       " 'https://sci-hub.do/10.1007/s10964-010-9572-z',\n",
       " 'https://sci-hub.do/10.1016/j.childyouth.2010.08.030',\n",
       " 'https://sci-hub.do/10.4018/jicte.2011010103',\n",
       " 'https://sci-hub.do/10.1080/00313831.2010.522842',\n",
       " 'https://sci-hub.do/10.1080/02671520802308677',\n",
       " 'https://sci-hub.do/10.1080/10615800903494127',\n",
       " 'https://sci-hub.do/10.3102/0002831209351564',\n",
       " 'https://sci-hub.do/10.1024/1010-0652.a000001',\n",
       " 'https://sci-hub.do/10.1080/13632750903512415',\n",
       " 'https://sci-hub.do/10.1080/14759390903579216',\n",
       " 'https://sci-hub.do/10.1037/a0017590',\n",
       " 'https://sci-hub.do/10.1177/0165025409345045',\n",
       " 'https://sci-hub.do/10.1177/0013124509349583',\n",
       " 'https://sci-hub.do/10.1016/j.paid.2009.09.014',\n",
       " 'https://sci-hub.do/10.1177/0885728809346960',\n",
       " 'https://sci-hub.do/10.1007/s11577-009-0072-7',\n",
       " 'https://sci-hub.do/10.1177/0272431608325502',\n",
       " 'https://sci-hub.do/10.1007/s11618-009-0072-4',\n",
       " 'https://sci-hub.do/10.1093/cs/31.2.109',\n",
       " 'https://sci-hub.do/10.1080/19411240903146509',\n",
       " 'https://sci-hub.do/10.1024/1010-0652.22.34.293',\n",
       " 'https://sci-hub.do/10.1111/j.1475-5661.2008.00305.x',\n",
       " 'https://sci-hub.do/10.1080/01629770802031267',\n",
       " 'https://sci-hub.do/10.1177/1356336X08090704',\n",
       " 'https://sci-hub.do/10.1007/s10649-007-9093-1',\n",
       " 'https://sci-hub.do/10.1026/0049-8637.38.3.101',\n",
       " 'https://sci-hub.do/10.1111/j.1467-8578.2006.00439.x',\n",
       " 'https://sci-hub.do/10.1080/10615800600632896',\n",
       " 'https://sci-hub.do/10.1007/BF03173419',\n",
       " 'https://sci-hub.do/10.1080/14733140412331384078',\n",
       " 'https://sci-hub.do/10.1177/0743558403258113',\n",
       " 'https://sci-hub.do/10.1177/0193392203028002005',\n",
       " 'https://sci-hub.do/10.1007/s11577-002-0073-2',\n",
       " 'https://sci-hub.do/10.1080/02671520110102507',\n",
       " 'https://sci-hub.do/10.1080/0300443981450105',\n",
       " 'https://sci-hub.do/10.1016/S0022-4405(97)00051-4',\n",
       " 'https://sci-hub.do/10.1080/0958517950060108']"
      ]
     },
     "execution_count": 139,
     "metadata": {},
     "output_type": "execute_result"
    }
   ],
   "source": [
    "refs"
   ]
  },
  {
   "cell_type": "code",
   "execution_count": 19,
   "metadata": {},
   "outputs": [],
   "source": [
    "df = pd.DataFrame()"
   ]
  },
  {
   "cell_type": "code",
   "execution_count": 20,
   "metadata": {},
   "outputs": [],
   "source": [
    "df['link'] = refs\n",
    "df['doi'] = list(map(lambda x: x.strip('https://sci-hub.do/'), refs))\n",
    "df['filename'] = list(map(lambda x: hashlib.md5(x.encode()).hexdigest(), df['link']))"
   ]
  },
  {
   "cell_type": "code",
   "execution_count": 144,
   "metadata": {},
   "outputs": [],
   "source": [
    "df.to_csv('links.csv', index=False)"
   ]
  },
  {
   "cell_type": "code",
   "execution_count": 7,
   "metadata": {},
   "outputs": [
    {
     "data": {
      "text/plain": "<surprise.prediction_algorithms.matrix_factorization.SVD at 0x7f94bf2d7100>"
     },
     "execution_count": 7,
     "metadata": {},
     "output_type": "execute_result"
    }
   ],
   "source": [
    "from surprise import SVD\n",
    "from surprise import Dataset, Reader\n",
    "import pandas as pd\n",
    "\n",
    "raw_data = pd.DataFrame([\n",
    "    ['user1', 'item1', 5],\n",
    "    ['user1', 'item2', 3],\n",
    "    ['user2', 'item1', 4],\n",
    "    ['user2', 'item2', 2]\n",
    "], columns=['user', 'item', 'rating'])\n",
    "\n",
    "\n",
    "algo = SVD()\n",
    "reader = Reader(rating_scale=(1, 5))\n",
    "data = Dataset.load_from_df(raw_data, reader)\n",
    "trainset = data.build_full_trainset()\n",
    "\n",
    "algo.fit(trainset)"
   ]
  },
  {
   "cell_type": "code",
   "execution_count": 15,
   "outputs": [
    {
     "data": {
      "text/plain": "Prediction(uid='user34', iid='item2', r_ui=None, est=3.3176996441538043, details={'was_impossible': False})"
     },
     "execution_count": 15,
     "metadata": {},
     "output_type": "execute_result"
    }
   ],
   "source": [
    "algo.predict('user34', 'item2')"
   ],
   "metadata": {
    "collapsed": false
   }
  },
  {
   "cell_type": "code",
   "execution_count": null,
   "outputs": [],
   "source": [],
   "metadata": {
    "collapsed": false,
    "pycharm": {
     "is_executing": true
    }
   }
  },
  {
   "cell_type": "code",
   "execution_count": 8,
   "outputs": [],
   "source": [],
   "metadata": {
    "collapsed": false
   }
  }
 ],
 "metadata": {
  "kernelspec": {
   "display_name": "Python 3",
   "language": "python",
   "name": "python3"
  },
  "language_info": {
   "codemirror_mode": {
    "name": "ipython",
    "version": 3
   },
   "file_extension": ".py",
   "mimetype": "text/x-python",
   "name": "python",
   "nbconvert_exporter": "python",
   "pygments_lexer": "ipython3",
   "version": "3.8.10"
  }
 },
 "nbformat": 4,
 "nbformat_minor": 4
}
